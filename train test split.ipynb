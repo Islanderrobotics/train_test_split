{
 "cells": [
  {
   "cell_type": "code",
   "execution_count": 1,
   "metadata": {
    "collapsed": true,
    "pycharm": {
     "name": "#%%\n"
    }
   },
   "outputs": [],
   "source": [
    "import pandas as pd\n",
    "import islanders as ir\n",
    "from sklearn.tree import DecisionTreeClassifier\n",
    "from sklearn.model_selection import train_test_split\n",
    "import numpy as np\n",
    "gifts = ir.datasets(\"amazon electronics\")"
   ]
  },
  {
   "cell_type": "code",
   "execution_count": 2,
   "outputs": [
    {
     "data": {
      "text/plain": "   rankings                                               name  stars  \\\n0         0  Fire TV Stick with Alexa Voice Remote (include...    4.0   \n1         1  Fire TV Stick 4K streaming device with Alexa V...    4.0   \n2         2  Echo Dot (3rd Gen) - Smart speaker with Alexa ...    4.0   \n3         3  Introducing Fire TV Stick 4K Max streaming dev...    4.0   \n4         4  Fire TV Stick 4K streaming device with Alexa V...    4.0   \n\n   number_of_ratings  price price range  \n0              87946  19.99    under 25  \n1               5714  24.99    under 25  \n2             783750  19.99    under 25  \n3               4360  34.99  $25 to $50  \n4             763724  24.99    under 25  ",
      "text/html": "<div>\n<style scoped>\n    .dataframe tbody tr th:only-of-type {\n        vertical-align: middle;\n    }\n\n    .dataframe tbody tr th {\n        vertical-align: top;\n    }\n\n    .dataframe thead th {\n        text-align: right;\n    }\n</style>\n<table border=\"1\" class=\"dataframe\">\n  <thead>\n    <tr style=\"text-align: right;\">\n      <th></th>\n      <th>rankings</th>\n      <th>name</th>\n      <th>stars</th>\n      <th>number_of_ratings</th>\n      <th>price</th>\n      <th>price range</th>\n    </tr>\n  </thead>\n  <tbody>\n    <tr>\n      <th>0</th>\n      <td>0</td>\n      <td>Fire TV Stick with Alexa Voice Remote (include...</td>\n      <td>4.0</td>\n      <td>87946</td>\n      <td>19.99</td>\n      <td>under 25</td>\n    </tr>\n    <tr>\n      <th>1</th>\n      <td>1</td>\n      <td>Fire TV Stick 4K streaming device with Alexa V...</td>\n      <td>4.0</td>\n      <td>5714</td>\n      <td>24.99</td>\n      <td>under 25</td>\n    </tr>\n    <tr>\n      <th>2</th>\n      <td>2</td>\n      <td>Echo Dot (3rd Gen) - Smart speaker with Alexa ...</td>\n      <td>4.0</td>\n      <td>783750</td>\n      <td>19.99</td>\n      <td>under 25</td>\n    </tr>\n    <tr>\n      <th>3</th>\n      <td>3</td>\n      <td>Introducing Fire TV Stick 4K Max streaming dev...</td>\n      <td>4.0</td>\n      <td>4360</td>\n      <td>34.99</td>\n      <td>$25 to $50</td>\n    </tr>\n    <tr>\n      <th>4</th>\n      <td>4</td>\n      <td>Fire TV Stick 4K streaming device with Alexa V...</td>\n      <td>4.0</td>\n      <td>763724</td>\n      <td>24.99</td>\n      <td>under 25</td>\n    </tr>\n  </tbody>\n</table>\n</div>"
     },
     "execution_count": 2,
     "metadata": {},
     "output_type": "execute_result"
    }
   ],
   "source": [
    "gifts.head()"
   ],
   "metadata": {
    "collapsed": false,
    "pycharm": {
     "name": "#%%\n"
    }
   }
  },
  {
   "cell_type": "code",
   "execution_count": 3,
   "outputs": [
    {
     "name": "stdout",
     "output_type": "stream",
     "text": [
      "<class 'pandas.core.frame.DataFrame'>\n",
      "Int64Index: 100 entries, 0 to 49\n",
      "Data columns (total 6 columns):\n",
      " #   Column             Non-Null Count  Dtype  \n",
      "---  ------             --------------  -----  \n",
      " 0   rankings           100 non-null    int64  \n",
      " 1   name               100 non-null    object \n",
      " 2   stars              100 non-null    float64\n",
      " 3   number_of_ratings  100 non-null    int64  \n",
      " 4   price              100 non-null    float64\n",
      " 5   price range        100 non-null    object \n",
      "dtypes: float64(2), int64(2), object(2)\n",
      "memory usage: 5.5+ KB\n"
     ]
    }
   ],
   "source": [
    "gifts.info()"
   ],
   "metadata": {
    "collapsed": false,
    "pycharm": {
     "name": "#%%\n"
    }
   }
  },
  {
   "cell_type": "code",
   "execution_count": 4,
   "outputs": [],
   "source": [
    "names = [i for  i in gifts.name]"
   ],
   "metadata": {
    "collapsed": false,
    "pycharm": {
     "name": "#%%\n"
    }
   }
  },
  {
   "cell_type": "code",
   "execution_count": 5,
   "outputs": [],
   "source": [
    "gifts.drop(columns = \"name\", inplace = True)"
   ],
   "metadata": {
    "collapsed": false,
    "pycharm": {
     "name": "#%%\n"
    }
   }
  },
  {
   "cell_type": "code",
   "execution_count": 6,
   "outputs": [],
   "source": [
    "gifts_X = np.array(gifts.iloc[:,:-1].values)\n",
    "gifts_y = np.array(gifts.iloc[:,-1].values)"
   ],
   "metadata": {
    "collapsed": false,
    "pycharm": {
     "name": "#%%\n"
    }
   }
  },
  {
   "cell_type": "code",
   "execution_count": 7,
   "outputs": [],
   "source": [
    "X_train,X_test,y_train,y_test = train_test_split(gifts_X,gifts_y,train_size=0.2)"
   ],
   "metadata": {
    "collapsed": false,
    "pycharm": {
     "name": "#%%\n"
    }
   }
  },
  {
   "cell_type": "code",
   "execution_count": 8,
   "outputs": [],
   "source": [
    "dt = DecisionTreeClassifier()"
   ],
   "metadata": {
    "collapsed": false,
    "pycharm": {
     "name": "#%%\n"
    }
   }
  },
  {
   "cell_type": "code",
   "execution_count": 9,
   "outputs": [
    {
     "data": {
      "text/plain": "DecisionTreeClassifier()"
     },
     "execution_count": 9,
     "metadata": {},
     "output_type": "execute_result"
    }
   ],
   "source": [
    "dt.fit(X_train,y_train)"
   ],
   "metadata": {
    "collapsed": false,
    "pycharm": {
     "name": "#%%\n"
    }
   }
  },
  {
   "cell_type": "code",
   "execution_count": 10,
   "outputs": [],
   "source": [
    "y_pred = dt.predict(X_test)"
   ],
   "metadata": {
    "collapsed": false,
    "pycharm": {
     "name": "#%%\n"
    }
   }
  },
  {
   "cell_type": "code",
   "execution_count": 11,
   "outputs": [
    {
     "data": {
      "text/plain": "['Fire TV Stick with Alexa Voice Remote (includes TV controls), HD streaming device',\n 'Fujifilm Instax Mini Instant Film Twin Pack (White)',\n 'All-new Echo Show 5 (2nd Gen, 2021 release) | Smart display with Alexa and 2 MP camera | Charcoal',\n 'Fire TV Stick Lite with Alexa Voice Remote Lite (no TV controls), HD streaming device',\n 'Blink Outdoor - wireless, weather-resistant HD security camera, two-year battery life, motion detection, set up in minutes – 3 camera kit',\n 'Introducing Fire HD 10 Kids Pro tablet, 10.1\", 1080p Full HD, ages 6–12, 32 GB, Intergalactic',\n 'Fire 7 Kids tablet, 7\" Display, ages 3-7, 16 GB, Pink Kid-Proof Case',\n 'All-new Fire HD 10 Kids tablet, 10.1\", 1080p Full HD, ages 3–7, 32 GB, Lavender',\n 'GE 6-Outlet Surge Protector, 10 Ft Extension Cord, Power Strip, 800 Joules, Flat Plug, Twist-to-Close Safety Covers, UL Listed, White, 14092',\n 'All-new Echo Show 5 (2nd Gen, 2021 release) - Charcoal bundle with Blink Mini',\n 'Insignia NS-24DF310NA21 24-inch Smart HD 720p TV - Fire TV',\n 'TTile Mate (2022) 1-Pack, Black. Bluetooth Tracker, Keys Finder and Item Locator; Up to 250 ft. Range. Up to 3 Year Battery. Water-Resistant. Phone Finder. iOS and Android Compatible.',\n 'Roku Express | HD Streaming Media Player with High Speed HDMI Cable and Simple Remote',\n '12x42 High Definition Binoculars for Adults with Universal Phone Adapter - Super Bright\\xa0Binoculars with Large View- Lightweight Waterproof Binoculars\\u2002for Bird Watching Hunting stargazing\\xa0Hiking Sports',\n 'Lenovo Chromebook Flex 3 11\" Laptop, 11.6-Inch HD (1366 x 768) IPS Display, MediaTek MT8173C Processor, 4GB LPDDR3, 64 GB eMMC, Chrome OS, 82HG0006US, Blizzard White',\n 'Blink Outdoor - wireless, weather-resistant HD security camera, two-year battery life, motion detection, set up in minutes – 1 camera kit',\n 'TP-Link Deco Mesh WiFi System (Deco S4) – Up to 5,500 Sq.ft. Coverage, Replaces WiFi Router and Extender, Gigabit Ports, Works with Alexa, 3-pack',\n 'Introducing Fire HD 10 Kids Pro tablet, 10.1\", 1080p Full HD, ages 6–12, 32 GB, Sky Blue',\n 'Apple Watch SE (GPS + Cellular, 44mm) - Gold Aluminum Case with Starlight Sport Band',\n 'Fitbit Versa 2 Health and Fitness Smartwatch with Heart Rate, Music, Alexa Built-In, Sleep and Swim Tracking, Black/Carbon, One Size (S and L Bands Included)',\n 'Roku Ultra | Streaming Device HD/4K/HDR/Dolby Vision with Dolby Atmos, Bluetooth Streaming, and Roku Voice Remote with Headphone Jack and Personal Shortcuts, includes Premium HDMI Cable',\n 'Echo Dot (4th Gen, 2020 release) | Smart speaker with Alexa | Charcoal',\n 'Introducing Fire HD 10 Kids Pro tablet, 10.1\", 1080p Full HD, ages 6–12, 32 GB, Black',\n 'Power Strip, AHRISE Extension Cord with 6 AC Outlets and 4 USB Charging Ports(5V/3.4A,17W) for Smartphone Tablets Home, Office, Hotel, Cruise Ship, 5 Feet Long Cord, ETL Listed -Black']"
     },
     "execution_count": 11,
     "metadata": {},
     "output_type": "execute_result"
    }
   ],
   "source": [
    "options = []\n",
    "\n",
    "for i in range(len(y_pred)):\n",
    "    if y_pred[i] == \"$25 to $50\":\n",
    "        options.append(names[i])\n",
    "options"
   ],
   "metadata": {
    "collapsed": false,
    "pycharm": {
     "name": "#%%\n"
    }
   }
  },
  {
   "cell_type": "code",
   "execution_count": 12,
   "outputs": [
    {
     "data": {
      "text/plain": "0.925"
     },
     "execution_count": 12,
     "metadata": {},
     "output_type": "execute_result"
    }
   ],
   "source": [
    "encoder = ir.irdatacleaning.Encoder(gifts,type =\"OrdinalEncoder\", columns=[\"price range\"])\n",
    "gifts = encoder.check()\n",
    "encoded_gifts_x = np.array(gifts.iloc[:,:-1].values)\n",
    "encoded_gifts_y = np.array(gifts.iloc[:,-1].values)\n",
    "X_train,X_test,y_train,y_test = train_test_split(encoded_gifts_x,encoded_gifts_y,train_size = 0.2)\n",
    "dt = DecisionTreeClassifier()\n",
    "dt.fit(X_train,y_train)\n",
    "dt.score(X_test,y_test)"
   ],
   "metadata": {
    "collapsed": false,
    "pycharm": {
     "name": "#%%\n"
    }
   }
  },
  {
   "cell_type": "code",
   "execution_count": null,
   "outputs": [],
   "source": [],
   "metadata": {
    "collapsed": false,
    "pycharm": {
     "name": "#%%\n"
    }
   }
  }
 ],
 "metadata": {
  "kernelspec": {
   "display_name": "Python 3",
   "language": "python",
   "name": "python3"
  },
  "language_info": {
   "codemirror_mode": {
    "name": "ipython",
    "version": 2
   },
   "file_extension": ".py",
   "mimetype": "text/x-python",
   "name": "python",
   "nbconvert_exporter": "python",
   "pygments_lexer": "ipython2",
   "version": "2.7.6"
  }
 },
 "nbformat": 4,
 "nbformat_minor": 0
}